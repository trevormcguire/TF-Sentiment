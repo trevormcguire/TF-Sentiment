{
  "nbformat": 4,
  "nbformat_minor": 0,
  "metadata": {
    "colab": {
      "name": "TF-IMDB-LSTM.ipynb",
      "provenance": []
    },
    "kernelspec": {
      "name": "python3",
      "display_name": "Python 3"
    },
    "language_info": {
      "name": "python"
    },
    "accelerator": "GPU"
  },
  "cells": [
    {
      "cell_type": "code",
      "metadata": {
        "id": "-V5b5sXxwTIi"
      },
      "source": [
        "import numpy as np\n",
        "\n",
        "import tensorflow_datasets as tfds\n",
        "import tensorflow as tf\n",
        "\n",
        "tfds.disable_progress_bar()"
      ],
      "execution_count": 1,
      "outputs": []
    },
    {
      "cell_type": "code",
      "metadata": {
        "id": "Afh_6oN9wiGt"
      },
      "source": [
        "dataset, info = tfds.load('imdb_reviews', with_info=True, as_supervised=True)\n",
        "train_dataset, test_dataset = dataset['train'], dataset['test']"
      ],
      "execution_count": null,
      "outputs": []
    },
    {
      "cell_type": "code",
      "metadata": {
        "id": "GDXGS75ywj9s"
      },
      "source": [
        "BUFFER_SIZE = 10000\n",
        "BATCH_SIZE = 64\n",
        "VOCAB_SIZE = 900"
      ],
      "execution_count": 5,
      "outputs": []
    },
    {
      "cell_type": "code",
      "metadata": {
        "id": "Dv5rGDbawqB2"
      },
      "source": [
        "train_dataset = train_dataset.shuffle(BUFFER_SIZE).batch(BATCH_SIZE).prefetch(tf.data.AUTOTUNE)\n",
        "test_dataset = test_dataset.batch(BATCH_SIZE).prefetch(tf.data.AUTOTUNE)"
      ],
      "execution_count": 4,
      "outputs": []
    },
    {
      "cell_type": "code",
      "metadata": {
        "id": "zC3A-mPWwqb2"
      },
      "source": [
        "encoder = tf.keras.layers.experimental.preprocessing.TextVectorization(\n",
        "    max_tokens=VOCAB_SIZE)\n",
        "encoder.adapt(train_dataset.map(lambda text, label: text))\n"
      ],
      "execution_count": 6,
      "outputs": []
    },
    {
      "cell_type": "code",
      "metadata": {
        "id": "inZw0dwIw-7v"
      },
      "source": [
        "model = tf.keras.Sequential([\n",
        "    encoder,\n",
        "    tf.keras.layers.Embedding(\n",
        "        input_dim=len(encoder.get_vocabulary()),\n",
        "        output_dim=64,\n",
        "        mask_zero=True),\n",
        "    tf.keras.layers.Bidirectional(tf.keras.layers.LSTM(64)),\n",
        "    tf.keras.layers.Dense(64, activation='relu'),\n",
        "    tf.keras.layers.Dense(1)\n",
        "])\n",
        "\n",
        "model.compile(loss=tf.keras.losses.BinaryCrossentropy(from_logits=True),\n",
        "              optimizer=tf.keras.optimizers.Adam(1e-4),\n",
        "              metrics=['accuracy'])\n"
      ],
      "execution_count": 7,
      "outputs": []
    },
    {
      "cell_type": "code",
      "metadata": {
        "colab": {
          "base_uri": "https://localhost:8080/"
        },
        "id": "28WftqmDxKQg",
        "outputId": "02825ef5-fcfd-48e1-ab46-308fb203d664"
      },
      "source": [
        "history = model.fit(train_dataset, epochs=10, validation_data=test_dataset)\n"
      ],
      "execution_count": 8,
      "outputs": [
        {
          "output_type": "stream",
          "text": [
            "Epoch 1/10\n",
            "391/391 [==============================] - 67s 140ms/step - loss: 0.6364 - accuracy: 0.5746 - val_loss: 0.4840 - val_accuracy: 0.7879\n",
            "Epoch 2/10\n",
            "391/391 [==============================] - 52s 131ms/step - loss: 0.4354 - accuracy: 0.7970 - val_loss: 0.3826 - val_accuracy: 0.8350\n",
            "Epoch 3/10\n",
            "391/391 [==============================] - 51s 129ms/step - loss: 0.3683 - accuracy: 0.8383 - val_loss: 0.3511 - val_accuracy: 0.8502\n",
            "Epoch 4/10\n",
            "391/391 [==============================] - 51s 129ms/step - loss: 0.3410 - accuracy: 0.8519 - val_loss: 0.3376 - val_accuracy: 0.8544\n",
            "Epoch 5/10\n",
            "391/391 [==============================] - 51s 128ms/step - loss: 0.3256 - accuracy: 0.8600 - val_loss: 0.3287 - val_accuracy: 0.8523\n",
            "Epoch 6/10\n",
            "391/391 [==============================] - 51s 130ms/step - loss: 0.3165 - accuracy: 0.8648 - val_loss: 0.3241 - val_accuracy: 0.8598\n",
            "Epoch 7/10\n",
            "391/391 [==============================] - 51s 129ms/step - loss: 0.3135 - accuracy: 0.8658 - val_loss: 0.3247 - val_accuracy: 0.8604\n",
            "Epoch 8/10\n",
            "391/391 [==============================] - 51s 129ms/step - loss: 0.3107 - accuracy: 0.8663 - val_loss: 0.3247 - val_accuracy: 0.8514\n",
            "Epoch 9/10\n",
            "391/391 [==============================] - 51s 130ms/step - loss: 0.3087 - accuracy: 0.8680 - val_loss: 0.3221 - val_accuracy: 0.8526\n",
            "Epoch 10/10\n",
            "391/391 [==============================] - 51s 129ms/step - loss: 0.3046 - accuracy: 0.8702 - val_loss: 0.3235 - val_accuracy: 0.8504\n"
          ],
          "name": "stdout"
        }
      ]
    },
    {
      "cell_type": "code",
      "metadata": {
        "colab": {
          "base_uri": "https://localhost:8080/"
        },
        "id": "J3Md7eiOz1nj",
        "outputId": "29f64d50-6aaa-4ac9-80df-fd4b0cc07c54"
      },
      "source": [
        "#same domain \n",
        "movie_sents = [\"The Martian was the most scientifically accurate movie of all time.\", \n",
        "               \"Interstellar was a thrill ride but the ending was fluffy and chesey.\", \n",
        "               \"Although it was boring at times, Lord of the Rings is without doubt one of the greatest trilogies in cinematic history.\"]\n",
        "model.predict(movie_sents)\n"
      ],
      "execution_count": 20,
      "outputs": [
        {
          "output_type": "execute_result",
          "data": {
            "text/plain": [
              "array([[ 0.11185782],\n",
              "       [-0.2494679 ],\n",
              "       [ 0.49514487]], dtype=float32)"
            ]
          },
          "metadata": {},
          "execution_count": 20
        }
      ]
    },
    {
      "cell_type": "code",
      "metadata": {
        "colab": {
          "base_uri": "https://localhost:8080/"
        },
        "id": "9qwT_tyj1WI-",
        "outputId": "f5cbbb8c-413f-4050-b2f9-cf09e4fabc8e"
      },
      "source": [
        "#different domain\n",
        "stock_sents = [\"The S&P500 closed at all-time highs today, once again providing millions of 401ks an extra boost.\", \n",
        "               \"CNBC is always pumping the companies that their parent company has vested interest in.\", \n",
        "               \"The entire U.S stock market is a house of cards waiting to crumble.\"]\n",
        "\n",
        "model.predict(stock_sents)"
      ],
      "execution_count": 21,
      "outputs": [
        {
          "output_type": "execute_result",
          "data": {
            "text/plain": [
              "array([[ 1.3884223 ],\n",
              "       [-0.302824  ],\n",
              "       [-0.31304908]], dtype=float32)"
            ]
          },
          "metadata": {},
          "execution_count": 21
        }
      ]
    }
  ]
}